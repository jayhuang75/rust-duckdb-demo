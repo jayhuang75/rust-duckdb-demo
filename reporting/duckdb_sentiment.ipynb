{
 "cells": [
  {
   "cell_type": "markdown",
   "metadata": {},
   "source": [
    "### Let's see the trending of the news between 2018 Jan to May, sentiment, based on the artical or news title."
   ]
  },
  {
   "cell_type": "code",
   "execution_count": 2,
   "metadata": {},
   "outputs": [
    {
     "ename": "IOException",
     "evalue": "IO Error: Cannot open file \"/Users/huangwh/rust/rust-duckdb-demo/reporting/db/us_financal_news.db\": No such file or directory",
     "output_type": "error",
     "traceback": [
      "\u001b[0;31m---------------------------------------------------------------------------\u001b[0m",
      "\u001b[0;31mIOException\u001b[0m                               Traceback (most recent call last)",
      "Cell \u001b[0;32mIn[2], line 5\u001b[0m\n\u001b[1;32m      2\u001b[0m \u001b[39mimport\u001b[39;00m \u001b[39mpolars\u001b[39;00m \u001b[39mas\u001b[39;00m \u001b[39mpl\u001b[39;00m\n\u001b[1;32m      3\u001b[0m \u001b[39mimport\u001b[39;00m \u001b[39mmatplotlib\u001b[39;00m\u001b[39m.\u001b[39;00m\u001b[39mpyplot\u001b[39;00m \u001b[39mas\u001b[39;00m \u001b[39mplt\u001b[39;00m\n\u001b[0;32m----> 5\u001b[0m con \u001b[39m=\u001b[39m duckdb\u001b[39m.\u001b[39;49mconnect(\u001b[39m'\u001b[39;49m\u001b[39mdb/us_financal_news.db\u001b[39;49m\u001b[39m'\u001b[39;49m)\n\u001b[1;32m      6\u001b[0m duckdb_to_arrow \u001b[39m=\u001b[39m con\u001b[39m.\u001b[39mquery(\u001b[39m\"\"\"\u001b[39m\u001b[39mselect sentiment, COUNT(*) as counts from sentiment group by sentiment;\u001b[39m\u001b[39m\"\"\"\u001b[39m)\u001b[39m.\u001b[39marrow()\n\u001b[1;32m      7\u001b[0m polars_df \u001b[39m=\u001b[39m pl\u001b[39m.\u001b[39mDataFrame(duckdb_to_arrow)\n",
      "\u001b[0;31mIOException\u001b[0m: IO Error: Cannot open file \"/Users/huangwh/rust/rust-duckdb-demo/reporting/db/us_financal_news.db\": No such file or directory"
     ]
    }
   ],
   "source": [
    "import duckdb\n",
    "import polars as pl\n",
    "import matplotlib.pyplot as plt\n",
    "\n",
    "con = duckdb.connect('../db/us_financal_news.db')\n",
    "duckdb_to_arrow = con.query(\"\"\"select sentiment, COUNT(*) as counts from sentiment group by sentiment;\"\"\").arrow()\n",
    "polars_df = pl.DataFrame(duckdb_to_arrow)\n",
    "\n",
    "display(polars_df)\n",
    "\n",
    "# polars_d\n",
    "plt.figure(figsize=(8,8))\n",
    "\n",
    "# plot a Pie Chart for Registration Price column with label Car column\n",
    "plt.pie(polars_df[\"counts\"], labels = polars_df[\"sentiment\"], autopct='%1.1f%%')\n",
    "plt.show()\n",
    "\n",
    "con.close()"
   ]
  }
 ],
 "metadata": {
  "kernelspec": {
   "display_name": "Python 3",
   "language": "python",
   "name": "python3"
  },
  "language_info": {
   "codemirror_mode": {
    "name": "ipython",
    "version": 3
   },
   "file_extension": ".py",
   "mimetype": "text/x-python",
   "name": "python",
   "nbconvert_exporter": "python",
   "pygments_lexer": "ipython3",
   "version": "3.10.4"
  },
  "orig_nbformat": 4
 },
 "nbformat": 4,
 "nbformat_minor": 2
}
